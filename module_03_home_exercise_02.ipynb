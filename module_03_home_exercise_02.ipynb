{
 "cells": [
  {
   "cell_type": "code",
   "execution_count": 13,
   "id": "82561353-f48b-41cb-8e3c-ccc6d33699eb",
   "metadata": {},
   "outputs": [],
   "source": [
    "import numpy as np"
   ]
  },
  {
   "cell_type": "code",
   "execution_count": 53,
   "id": "e83b2c3c-c513-419b-8fc5-15d17e8eaad6",
   "metadata": {},
   "outputs": [
    {
     "name": "stdout",
     "output_type": "stream",
     "text": [
      "[ 1  2  3  4  5  6  7  8  9 10]\n",
      "[0.5  0.75 1.   1.25 1.5  1.75 2.   2.25 2.5  2.75 3.   3.25 3.5  3.75\n",
      " 4.   4.25 4.5  4.75 5.  ]\n"
     ]
    }
   ],
   "source": [
    "# 1.a\n",
    "range_array = np.arange(1, 11)\n",
    "print(range_array)\n",
    "# 1.b\n",
    "steps_range_array = np.arange(0.5, 5 + 0.25, 0.25)\n",
    "print(steps_range_array)"
   ]
  },
  {
   "cell_type": "code",
   "execution_count": 79,
   "id": "31ec4bba-cd43-473d-b418-4dd8b124766a",
   "metadata": {},
   "outputs": [
    {
     "name": "stdout",
     "output_type": "stream",
     "text": [
      "[0 0 0 0 0 0 0 0 0 0]\n",
      "[[0 0 0 0]\n",
      " [0 0 0 0]\n",
      " [0 0 0 0]]\n"
     ]
    }
   ],
   "source": [
    "# 2.a\n",
    "print(np.zeros(10, dtype=int))\n",
    "# 2.b\n",
    "print(np.zeros((3,4), dtype=int))"
   ]
  },
  {
   "cell_type": "code",
   "execution_count": 81,
   "id": "a3f3922d-ff8b-4240-8612-b8f38e156989",
   "metadata": {},
   "outputs": [
    {
     "name": "stdout",
     "output_type": "stream",
     "text": [
      "[ 2  4  7  9 12]\n",
      "[3 5 7 9]\n"
     ]
    }
   ],
   "source": [
    "# 3.a\n",
    "lin_array = np.linspace(2, 12, 5, dtype=int)\n",
    "print(lin_array)\n",
    "# 3.b\n",
    "lin_array_s = np.linspace(3, 9, 4, dtype=int)\n",
    "print(lin_array_s)"
   ]
  },
  {
   "cell_type": "code",
   "execution_count": 134,
   "id": "8983642b-987c-48ce-8ae7-9e4cba642fef",
   "metadata": {},
   "outputs": [
    {
     "name": "stdout",
     "output_type": "stream",
     "text": [
      "[[0.14477073 0.69606886]\n",
      " [0.06490733 0.8834079 ]\n",
      " [0.78122905 0.48877598]\n",
      " [0.03751328 0.92207972]]\n",
      "[[15 10 16]\n",
      " [20 13 16]\n",
      " [17 14 17]]\n",
      "[[0.14477073 0.69606886 0.06490733 0.8834079  0.78122905 0.48877598\n",
      "  0.03751328 0.92207972]]\n"
     ]
    }
   ],
   "source": [
    "# 4.a\n",
    "random_array = np.random.rand(4, 2)\n",
    "print(random_array)\n",
    "# 4.b\n",
    "random_int = np.random.randint(10, 21, (3, 3))\n",
    "print(random_int)\n",
    "# \n",
    "reshapred = random_array.reshape(1, 8)\n",
    "print(reshapred)\n",
    "# \n",
    "# When using reshapred function, we need to make sure that the array you are reshaping has the right amount of numbers for the new shape"
   ]
  },
  {
   "cell_type": "code",
   "execution_count": null,
   "id": "f6850f78-614e-4494-b275-1a9a5f6f1ed5",
   "metadata": {},
   "outputs": [],
   "source": [
    "# 5\n",
    "# If we draw random numbers by using seed function, the same numbers will be drawn every time we will run the function.\n",
    "\n",
    "# The advantage of this is that if we want to use the same random numbers for different purposes, \n",
    "# for example: to train the model then we don't have to keep a big list of numbers and load it every time. \n",
    "# In addition, if we want to add values, the seed function will keep the previous values and add new random values and this will avoid the need to update new values every time when working with a list."
   ]
  },
  {
   "cell_type": "code",
   "execution_count": 142,
   "id": "0f0eb9a3-54b5-4d20-8151-52997f7f8f0c",
   "metadata": {},
   "outputs": [
    {
     "name": "stdin",
     "output_type": "stream",
     "text": [
      "Enter a number:  2\n",
      "Enter a number:  4\n",
      "Enter a number:  6\n",
      "Enter a number:  8\n",
      "Enter a number:  10\n"
     ]
    },
    {
     "name": "stdout",
     "output_type": "stream",
     "text": [
      "max 10\n",
      "min 2\n",
      "shape (5,)\n",
      "argmax 4\n",
      "argmin 0\n"
     ]
    }
   ],
   "source": [
    "# 6.a\n",
    "user_list = []\n",
    "for _ in range(5):\n",
    "    num = int(input(\"Enter a number: \"))\n",
    "    user_list.append(num)\n",
    "# b\n",
    "numbers_array = np.array(user_list)\n",
    "# c\n",
    "print('max', numbers_array.max())  \n",
    "# d\n",
    "print('min', numbers_array.min()) \n",
    "# e\n",
    "print('shape', numbers_array.shape)\n",
    "# f\n",
    "print('argmax', numbers_array.argmax())\n",
    "# g\n",
    "print('argmin', numbers_array.argmin())"
   ]
  },
  {
   "cell_type": "code",
   "execution_count": null,
   "id": "8d70b849-ad79-4f51-9b1c-5b88ad096efd",
   "metadata": {},
   "outputs": [],
   "source": []
  }
 ],
 "metadata": {
  "kernelspec": {
   "display_name": "Python 3 (ipykernel)",
   "language": "python",
   "name": "python3"
  },
  "language_info": {
   "codemirror_mode": {
    "name": "ipython",
    "version": 3
   },
   "file_extension": ".py",
   "mimetype": "text/x-python",
   "name": "python",
   "nbconvert_exporter": "python",
   "pygments_lexer": "ipython3",
   "version": "3.12.7"
  }
 },
 "nbformat": 4,
 "nbformat_minor": 5
}
